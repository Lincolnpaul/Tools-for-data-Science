{
 "cells": [
  {
   "cell_type": "markdown",
   "id": "2cfe7c7d-1222-43a4-8729-8e8220b961d2",
   "metadata": {},
   "source": [
    "# My Final Assignment for completion of the course #"
   ]
  },
  {
   "cell_type": "markdown",
   "id": "48d10ff3-90c7-4ef6-a68c-8089905cce0b",
   "metadata": {},
   "source": [
    "Top list data science libraries are\n",
    "* pandas\n",
    "* Numpy\n",
    "* Skypy\n",
    "* Scikit-learn\n",
    "* TensorFlow"
   ]
  },
  {
   "cell_type": "markdown",
   "id": "46c32ecf-296f-44ae-bb20-91ad817486ac",
   "metadata": {},
   "source": [
    "| This  | is    |\n",
    "|------ |------ |\n",
    "|   a   | table |\n",
    "|   of  | data  |\n",
    "|------ |------ |\n",
    "|science| tools |"
   ]
  },
  {
   "cell_type": "markdown",
   "id": "3c7e6aa1-55bb-4d04-b058-cfa0c7a49dd1",
   "metadata": {},
   "source": [
    "### The Following Data Will Add Two Numbers ###"
   ]
  },
  {
   "cell_type": "code",
   "execution_count": 9,
   "id": "01fafb95-47a9-4b93-b4a1-6a3b36f27f12",
   "metadata": {},
   "outputs": [
    {
     "name": "stdout",
     "output_type": "stream",
     "text": [
      "The Sum of the 1.5 and 6.3 is 7.8\n"
     ]
    }
   ],
   "source": [
    "num1 = 1.5\n",
    "num2 = 6.3\n",
    "\n",
    "# Add Two Numbers\n",
    "sum = num1 + num2\n",
    "\n",
    "#Display the sum\n",
    "print('The Sum of the {0} and {1} is {2}'. format(num1, num2, sum))"
   ]
  },
  {
   "cell_type": "code",
   "execution_count": 10,
   "id": "8930fbee-b228-45ed-84b0-9e089f249a1f",
   "metadata": {},
   "outputs": [
    {
     "data": {
      "text/plain": [
       "12"
      ]
     },
     "execution_count": 10,
     "metadata": {},
     "output_type": "execute_result"
    }
   ],
   "source": [
    "(2+2)*3"
   ]
  },
  {
   "cell_type": "code",
   "execution_count": 15,
   "id": "284f431e-bf4f-43c3-8148-14e389d0b005",
   "metadata": {},
   "outputs": [
    {
     "name": "stdin",
     "output_type": "stream",
     "text": [
      "Enter the minutes =  240\n"
     ]
    },
    {
     "name": "stdout",
     "output_type": "stream",
     "text": [
      "This is the no of hours 4\n"
     ]
    }
   ],
   "source": [
    "num =int(input(\"Enter the minutes = \"))\n",
    "#1hr=60min\n",
    "hour=num//60\n",
    "print(\"This is the no of hours %d\"%(hour))"
   ]
  },
  {
   "cell_type": "markdown",
   "id": "bba28c70-12c3-4f2a-939d-54d068f15b21",
   "metadata": {},
   "source": [
    "The Objectives are to create a code to convert Minutes entered by user and convert it into hours\n"
   ]
  },
  {
   "cell_type": "markdown",
   "id": "d241bd97-4427-4070-af75-3189bd735a40",
   "metadata": {},
   "source": [
    "Author : Lincoln Paul"
   ]
  }
 ],
 "metadata": {
  "kernelspec": {
   "display_name": "Python",
   "language": "python",
   "name": "conda-env-python-py"
  },
  "language_info": {
   "codemirror_mode": {
    "name": "ipython",
    "version": 3
   },
   "file_extension": ".py",
   "mimetype": "text/x-python",
   "name": "python",
   "nbconvert_exporter": "python",
   "pygments_lexer": "ipython3",
   "version": "3.7.12"
  }
 },
 "nbformat": 4,
 "nbformat_minor": 5
}
